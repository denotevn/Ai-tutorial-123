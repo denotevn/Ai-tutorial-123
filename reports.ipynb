{
 "cells": [
  {
   "cell_type": "markdown",
   "metadata": {},
   "source": [
    "## **Big O: Time analysis**\n",
    "+ Về độ phức tạp của thuật toán gồm có: độ phức tạp về thời gian - time complexity, độ phức tạp về không gian - space complexity.\n",
    "+ Thông thường chúng ta sẽ lấy độ phức tạp của thuật toán trong trường hợp xấu nhất\n",
    "+ Thời gian hoàn thành của các thuật toán rất quan trọng. Yêu cầu nhanh gọn\n",
    "### Thuật toán sắp xếp:\n",
    "+ Sắp xếp chèn (Insertion sort)\n",
    "+ Sắp xếp lựa chọn (selection sort): TÌm các giá trị nhỏ nhất trong list chưa được sắp xếp ở mỗi vòng. Xếp giá trị này vào phần tử đầu tiên của list chưa được sắp xếp đó\n",
    "Sắp xếp nổi bọt (Bubble sort): so sánh hai phần tử kề nhau. Nếu chưa đúng thứ tự ta muốn thì tiến hành đổi chỗ\n",
    "+ Sắp xếp trộn Merge sort: Thuật toán này chia mảng cần sắp xếp thành 2 nửa. Tiếp tục lặp lại việc này ở các nửa mảng đã chia. Sau cùng gộp các nửa đó thành mảng đã sắp xếp. \n",
    "+ Quick sort\n",
    "+ ![]()\n"
   ]
  },
  {
   "cell_type": "code",
   "execution_count": null,
   "metadata": {},
   "outputs": [],
   "source": []
  }
 ],
 "metadata": {
  "language_info": {
   "name": "python"
  },
  "orig_nbformat": 4
 },
 "nbformat": 4,
 "nbformat_minor": 2
}
