{
 "cells": [
  {
   "cell_type": "code",
   "execution_count": 40,
   "metadata": {},
   "outputs": [],
   "source": [
    "import math\n",
    "\n",
    "def count_V_hinh_lap_phuong(r):\n",
    "    return r**3\n",
    "def count_V_hinh_hop_chu_nhat(l, w, h):\n",
    "    return l*w*h\n",
    "def V_hinh_tru_tron(r,h):\n",
    "    return math.pi*r*r*h\n",
    "def V_hinh_cau(r):\n",
    "    return (4/3)*math.pi*r**3"
   ]
  },
  {
   "cell_type": "code",
   "execution_count": 41,
   "metadata": {},
   "outputs": [
    {
     "data": {
      "text/plain": [
       "24"
      ]
     },
     "execution_count": 41,
     "metadata": {},
     "output_type": "execute_result"
    }
   ],
   "source": [
    "count_V_hinh_hop_chu_nhat(2,3,4)"
   ]
  },
  {
   "cell_type": "code",
   "execution_count": 42,
   "metadata": {},
   "outputs": [
    {
     "data": {
      "text/plain": [
       "8"
      ]
     },
     "execution_count": 42,
     "metadata": {},
     "output_type": "execute_result"
    }
   ],
   "source": [
    "count_V_hinh_lap_phuong(2)"
   ]
  },
  {
   "cell_type": "code",
   "execution_count": 43,
   "metadata": {},
   "outputs": [
    {
     "data": {
      "text/plain": [
       "37.69911184307752"
      ]
     },
     "execution_count": 43,
     "metadata": {},
     "output_type": "execute_result"
    }
   ],
   "source": [
    "V_hinh_tru_tron(2,3)"
   ]
  },
  {
   "cell_type": "code",
   "execution_count": 44,
   "metadata": {},
   "outputs": [
    {
     "data": {
      "text/plain": [
       "4.1887902047863905"
      ]
     },
     "execution_count": 44,
     "metadata": {},
     "output_type": "execute_result"
    }
   ],
   "source": [
    "V_hinh_cau(1)"
   ]
  },
  {
   "cell_type": "code",
   "execution_count": 45,
   "metadata": {},
   "outputs": [
    {
     "data": {
      "text/plain": [
       "False"
      ]
     },
     "execution_count": 45,
     "metadata": {},
     "output_type": "execute_result"
    }
   ],
   "source": [
    "fn = 0.1\n",
    "type(fn) == int"
   ]
  },
  {
   "cell_type": "markdown",
   "metadata": {},
   "source": [
    "## EX2"
   ]
  },
  {
   "cell_type": "code",
   "execution_count": 46,
   "metadata": {},
   "outputs": [],
   "source": [
    "# write function for evalue classification using F1 score\n",
    "def calc_f1_score(tp, fp, fn):\n",
    "    # print(type(tp))\n",
    "    # print(type(fp))\n",
    "    # print(type(fn))\n",
    "    if tp < 0 or fp < 0 or fn < 0:\n",
    "        print(\"tp and fp and fn must be greater than zero\")\n",
    "        return 0\n",
    "    if type(tp) != int and type(fp) != int and type(fn) != int:\n",
    "        print(\"tp, fp, fn must be int. Check your input\")\n",
    "        return 0\n",
    "    precision = tp/(tp + fp)\n",
    "    recall = tp / (tp + fn)\n",
    "    f1_score = 2*precision*recall / (precision + recall)\n",
    "    print(f\"precision is {precision} \\n Recall is {recall} \\n F1 score is {f1_score}\")"
   ]
  },
  {
   "cell_type": "code",
   "execution_count": 47,
   "metadata": {},
   "outputs": [
    {
     "name": "stdout",
     "output_type": "stream",
     "text": [
      "precision is 0.5 \n",
      " Recall is 0.3333333333333333 \n",
      " F1 score is 0.4\n",
      "---------------------\n",
      "precision is 0.047619047619047616 \n",
      " Recall is 0.03225806451612903 \n",
      " F1 score is 0.03846153846153846\n"
     ]
    }
   ],
   "source": [
    "calc_f1_score(1, 1, 2)\n",
    "print(\"---------------------\")\n",
    "calc_f1_score(0.1, 2,3)"
   ]
  },
  {
   "cell_type": "code",
   "execution_count": 48,
   "metadata": {},
   "outputs": [
    {
     "name": "stdout",
     "output_type": "stream",
     "text": [
      "precision is 0.4 \n",
      " Recall is 0.3333333333333333 \n",
      " F1 score is 0.3636363636363636\n",
      "------------------\n",
      "tp and fp and fn must be greater than zero\n"
     ]
    },
    {
     "data": {
      "text/plain": [
       "0"
      ]
     },
     "execution_count": 48,
     "metadata": {},
     "output_type": "execute_result"
    }
   ],
   "source": [
    "calc_f1_score(tp=2, fp=3, fn=4)\n",
    "print(\"------------------\")\n",
    "calc_f1_score(-2, 3,4)"
   ]
  },
  {
   "cell_type": "markdown",
   "metadata": {},
   "source": [
    "## Ex3"
   ]
  },
  {
   "cell_type": "code",
   "execution_count": 49,
   "metadata": {},
   "outputs": [],
   "source": [
    "def is_number(n):\n",
    "    try:\n",
    "        float(n)\n",
    "    except ValueError:\n",
    "        return False\n",
    "    return True"
   ]
  },
  {
   "cell_type": "code",
   "execution_count": 50,
   "metadata": {},
   "outputs": [
    {
     "name": "stdout",
     "output_type": "stream",
     "text": [
      "0\n",
      "2\n"
     ]
    }
   ],
   "source": [
    "def binary_Step(x):\n",
    "    if not is_number(x):\n",
    "        print(\"X must be a number\")\n",
    "        return -1\n",
    "    return 0 if x < 0 else x\n",
    "print(binary_Step(-2))\n",
    "print(binary_Step(2))"
   ]
  },
  {
   "cell_type": "code",
   "execution_count": 51,
   "metadata": {},
   "outputs": [
    {
     "data": {
      "text/plain": [
       "0.8807970779778823"
      ]
     },
     "execution_count": 51,
     "metadata": {},
     "output_type": "execute_result"
    }
   ],
   "source": [
    "def sigmoid(x):\n",
    "    return 1/(1 + math.exp(-x))\n",
    "sigmoid(2)"
   ]
  },
  {
   "cell_type": "code",
   "execution_count": 52,
   "metadata": {},
   "outputs": [
    {
     "data": {
      "text/plain": [
       "-0.08646647167633874"
      ]
     },
     "execution_count": 52,
     "metadata": {},
     "output_type": "execute_result"
    }
   ],
   "source": [
    "def elu_function(x, alpha = 0.1):\n",
    "    return alpha*(math.exp(x) - 1) if x < 0 else x\n",
    "elu_function(-2)"
   ]
  },
  {
   "cell_type": "markdown",
   "metadata": {},
   "source": [
    "## Ex4"
   ]
  },
  {
   "cell_type": "code",
   "execution_count": 60,
   "metadata": {},
   "outputs": [],
   "source": [
    "def calc_mean(n):\n",
    "    sum = 0\n",
    "    for i in range(n):\n",
    "        sum+=i\n",
    "    mean = sum / n\n",
    "    return mean"
   ]
  },
  {
   "cell_type": "code",
   "execution_count": 61,
   "metadata": {},
   "outputs": [
    {
     "data": {
      "text/plain": [
       "0.5"
      ]
     },
     "execution_count": 61,
     "metadata": {},
     "output_type": "execute_result"
    }
   ],
   "source": [
    "calc_mean(2)"
   ]
  },
  {
   "cell_type": "code",
   "execution_count": null,
   "metadata": {},
   "outputs": [],
   "source": []
  }
 ],
 "metadata": {
  "kernelspec": {
   "display_name": "env",
   "language": "python",
   "name": "python3"
  },
  "language_info": {
   "codemirror_mode": {
    "name": "ipython",
    "version": 3
   },
   "file_extension": ".py",
   "mimetype": "text/x-python",
   "name": "python",
   "nbconvert_exporter": "python",
   "pygments_lexer": "ipython3",
   "version": "3.10.12"
  },
  "orig_nbformat": 4
 },
 "nbformat": 4,
 "nbformat_minor": 2
}
