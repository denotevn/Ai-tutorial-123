{
 "cells": [
  {
   "cell_type": "code",
   "execution_count": 2,
   "metadata": {},
   "outputs": [
    {
     "name": "stdout",
     "output_type": "stream",
     "text": [
      "Total characters: 34\n",
      "Total words: 9\n"
     ]
    }
   ],
   "source": [
    "def count_chars_and_words_from_file(file_path):\n",
    "    try:\n",
    "        with open(file_path, 'r') as file:\n",
    "            char_count = 0\n",
    "            word_count = 0\n",
    "            list_of_word = []\n",
    "\n",
    "            for line in file:\n",
    "                char_count += len(line)\n",
    "                words = line.split()\n",
    "                word_count += len(words)\n",
    "                list_of_word.append(words)\n",
    "\n",
    "            return char_count, word_count, list_of_word\n",
    "    except FileNotFoundError:\n",
    "        print(\"File not found.\")\n",
    "        return 0, 0\n",
    "\n",
    "file_path = '/home/tuandinh/Desktop/AI cơ bản từ đầu/TA_python_basic/data.txt'  # Thay đổi đường dẫn đến tệp của bạn\n",
    "char_count, word_count = count_chars_and_words_from_file(file_path)\n",
    "\n",
    "print(f\"Total characters: {char_count}\")\n",
    "print(f\"Total words: {word_count}\")\n"
   ]
  },
  {
   "cell_type": "code",
   "execution_count": null,
   "metadata": {},
   "outputs": [],
   "source": []
  }
 ],
 "metadata": {
  "kernelspec": {
   "display_name": "env",
   "language": "python",
   "name": "python3"
  },
  "language_info": {
   "codemirror_mode": {
    "name": "ipython",
    "version": 3
   },
   "file_extension": ".py",
   "mimetype": "text/x-python",
   "name": "python",
   "nbconvert_exporter": "python",
   "pygments_lexer": "ipython3",
   "version": "3.10.12"
  },
  "orig_nbformat": 4
 },
 "nbformat": 4,
 "nbformat_minor": 2
}
